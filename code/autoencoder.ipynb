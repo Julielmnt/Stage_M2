{
 "cells": [
  {
   "cell_type": "code",
   "execution_count": 1,
   "metadata": {},
   "outputs": [
    {
     "name": "stdout",
     "output_type": "stream",
     "text": [
      "Working in /projects/IceDynamics/Stage_M2/code\n"
     ]
    }
   ],
   "source": [
    "import numpy as np\n",
    "import torch\n",
    "import torch.nn as nn\n",
    "from torch.utils.data import Dataset, DataLoader\n",
    "from torchvision import transforms, datasets\n",
    "import torch.optim as optim\n",
    "import matplotlib.pyplot as plt\n",
    "import matplotlib\n",
    "import math\n",
    "import os \n",
    "import torch.nn.functional as F\n",
    "\n",
    "import importlib\n",
    "import data_analysis\n",
    "importlib.reload(data_analysis)\n",
    "\n",
    "import autoencoder\n",
    "importlib.reload(autoencoder)\n",
    "\n",
    "import utils\n",
    "importlib.reload(utils)\n",
    "\n",
    "%matplotlib inline\n",
    "matplotlib.pyplot.rc('text', usetex=True)\n",
    "fontsize = 18\n",
    "\n",
    "\n",
    "print(f'Working in {os.getcwd()}')"
   ]
  },
  {
   "cell_type": "code",
   "execution_count": 2,
   "metadata": {},
   "outputs": [
    {
     "name": "stdout",
     "output_type": "stream",
     "text": [
      "Selected GPU 0 with 24197 MB free memory \n"
     ]
    }
   ],
   "source": [
    "from utils import get_freer_gpu\n",
    "\n",
    "device = get_freer_gpu() if torch.cuda.is_available() else \"cpu\""
   ]
  },
  {
   "cell_type": "code",
   "execution_count": 4,
   "metadata": {},
   "outputs": [
    {
     "name": "stdout",
     "output_type": "stream",
     "text": [
      "6249\n"
     ]
    }
   ],
   "source": [
    "from data_analysis import Simulation\n",
    "from data_analysis import compatible_path\n",
    "current_directory = compatible_path('../')\n",
    "\n",
    "simulation = Simulation(current_directory, normalize = True)\n",
    "time, x, z, u, w, T, umean, wmean, Tmean = map(lambda x: torch.tensor(x).to(device), simulation.import_data())\n",
    "simulation.image_rgb()\n",
    "\n",
    "h, l = np.shape(x)\n",
    "m = len(time)\n",
    "print(m)\n",
    "N = h*l*3"
   ]
  },
  {
   "cell_type": "markdown",
   "metadata": {},
   "source": [
    "# Dataset"
   ]
  },
  {
   "cell_type": "code",
   "execution_count": 6,
   "metadata": {},
   "outputs": [
    {
     "name": "stdout",
     "output_type": "stream",
     "text": [
      "tensor(-0.7453, device='cuda:0', dtype=torch.float64) tensor(0.8174, device='cuda:0', dtype=torch.float64) torch.Size([4, 3, 81, 51])\n"
     ]
    }
   ],
   "source": [
    "from autoencoder import SimuDataset\n",
    "\n",
    "batch_size = 4\n",
    "\n",
    "dataset = SimuDataset(simulation, rgb = True, training_ratio = 0.9)\n",
    "first = dataset[0]\n",
    "dataloader = DataLoader(dataset = dataset, batch_size = batch_size, shuffle = True)\n",
    "\n",
    "dataiter = iter(dataloader)\n",
    "data, t = next(dataiter)\n",
    "print(torch.min(data), torch.max(data), data.shape)\n",
    "\n"
   ]
  },
  {
   "cell_type": "markdown",
   "metadata": {},
   "source": [
    "# Model"
   ]
  },
  {
   "cell_type": "code",
   "execution_count": null,
   "metadata": {},
   "outputs": [],
   "source": [
    "from autoencoder import ConvolutionalAutoencoder\n",
    "lr = 1e-4\n",
    "weight_decay = 0\n",
    "\n",
    "\n",
    "model = ConvolutionalAutoencoder(device = device)\n",
    "model.to(device) \n",
    "criterion = nn.MSELoss()\n",
    "optimizer = torch.optim.Adam(model.parameters(), lr = lr, weight_decay = weight_decay)"
   ]
  },
  {
   "cell_type": "markdown",
   "metadata": {},
   "source": [
    "# Training"
   ]
  },
  {
   "cell_type": "code",
   "execution_count": 7,
   "metadata": {},
   "outputs": [
    {
     "name": "stdout",
     "output_type": "stream",
     "text": [
      "Epoch: 1, Loss: 0.0130\n",
      "Epoch: 2, Loss: 0.0044\n",
      "Epoch: 3, Loss: 0.0058\n",
      "Epoch: 4, Loss: 0.0035\n",
      "Epoch: 5, Loss: 0.0049\n",
      "Epoch: 6, Loss: 0.0031\n",
      "Epoch: 7, Loss: 0.0021\n",
      "Epoch: 8, Loss: 0.0045\n",
      "Epoch: 9, Loss: 0.0025\n",
      "Epoch: 10, Loss: 0.0024\n",
      "Epoch: 11, Loss: 0.0021\n",
      "Epoch: 12, Loss: 0.0032\n",
      "Epoch: 13, Loss: 0.0032\n",
      "Epoch: 14, Loss: 0.0026\n",
      "Epoch: 15, Loss: 0.0019\n",
      "Epoch: 16, Loss: 0.0028\n",
      "Epoch: 17, Loss: 0.0024\n"
     ]
    }
   ],
   "source": [
    "num_epoch = 100\n",
    "output = []\n",
    "info = []\n",
    "for epoch in range(num_epoch):\n",
    "    for map, t in dataloader:\n",
    "        map = map.float().to(device)\n",
    "        reconstructed = model(map)\n",
    "        loss = criterion(reconstructed, map)\n",
    "\n",
    "        optimizer.zero_grad()\n",
    "        loss.backward()\n",
    "        optimizer.step()\n",
    "\n",
    "    print(f\"Epoch: {epoch+1}, Loss:{loss.item() : .4f}\")\n",
    "    info.append((epoch, loss.item()))\n",
    "    output.append((epoch, map, reconstructed))"
   ]
  },
  {
   "cell_type": "code",
   "execution_count": 64,
   "metadata": {},
   "outputs": [
    {
     "name": "stderr",
     "output_type": "stream",
     "text": [
      "No artists with labels found to put in legend.  Note that artists whose label start with an underscore are ignored when legend() is called with no argument.\n"
     ]
    },
    {
     "data": {
      "image/png": "[encoded data removed]",
      "text/plain": [
       "<Figure size 1600x500 with 1 Axes>"
      ]
     },
     "metadata": {},
     "output_type": "display_data"
    }
   ],
   "source": [
    "fig, ax1 = plt.subplots(figsize = (16, 5))\n",
    "\n",
    "\n",
    "# ax1.scatter(time.cpu(), uz, s = 10, c = 'orange', label = r'ground truth $u_z$')\n",
    "ax1.scatter(range(len(info)), [info[i][1] for i in range(len(info))], s = 20, c = 'cadetblue')\n",
    "\n",
    "ax1.set_ylabel(r'$loss$', fontsize= fontsize)\n",
    "ax1.set_xlabel(r'$epoch$', fontsize = fontsize)\n",
    "ax1.legend(fontsize = fontsize, loc = 'upper left')\n",
    "\n",
    "fig.tight_layout()"
   ]
  },
  {
   "cell_type": "code",
   "execution_count": 65,
   "metadata": {},
   "outputs": [],
   "source": [
    "from utils import info_text\n",
    "directory = f'{current_directory}/results/autoencoder/cnn/'\n",
    "torch.save(model.state_dict(), directory + f'model_bs{batch_size}_v2.pt')\n",
    "info_text(directory, batch_size, sizes, num_epoch, info, version = 2)"
   ]
  },
  {
   "cell_type": "markdown",
   "metadata": {},
   "source": [
    "#### Test"
   ]
  },
  {
   "cell_type": "code",
   "execution_count": 23,
   "metadata": {},
   "outputs": [
    {
     "name": "stdout",
     "output_type": "stream",
     "text": [
      "tensor(-0.6562, device='cuda:0', dtype=torch.float64) tensor(0.5647, device='cuda:0', dtype=torch.float64) torch.Size([4, 3, 81, 51])\n"
     ]
    }
   ],
   "source": [
    "batch_size = 4\n",
    "\n",
    "dataset = SimuDataset(simulation, rgb = True)\n",
    "first = dataset[0]\n",
    "dataloader = DataLoader(dataset = dataset, batch_size = batch_size)\n",
    "\n",
    "dataiter = iter(dataloader)\n",
    "data = next(dataiter)\n",
    "print(torch.min(data), torch.max(data), data.shape)\n",
    "\n",
    "model = ConvolutionalAutoencoder(device = device)\n",
    "model.to(device) \n",
    "criterion = nn.MSELoss()\n",
    "optimizer = torch.optim.Adam(model.parameters(), lr = 1e-3, weight_decay = 1e-5)"
   ]
  },
  {
   "cell_type": "code",
   "execution_count": 70,
   "metadata": {},
   "outputs": [
    {
     "name": "stdout",
     "output_type": "stream",
     "text": [
      "torch.Size([4, 3, 81, 51])\n",
      "Shape after conv1: torch.Size([4, 32, 20, 12])\n",
      "Shape after conv2: torch.Size([4, 64, 10, 6])\n",
      "Shape after conv3: torch.Size([4, 64, 3, 2])\n",
      "Shape after conv4: torch.Size([4, 64, 3, 2])\n",
      "Shape after conv_inv1: torch.Size([4, 64, 10, 6])\n",
      "Shape after conv_inv2: torch.Size([4, 64, 20, 12])\n",
      "Shape after conv_inv3: torch.Size([4, 3, 81, 51])\n"
     ]
    }
   ],
   "source": [
    "import torch.nn.functional as F\n",
    "\n",
    "kernel_size = 3\n",
    "stride = 1\n",
    "padding = 1\n",
    "\n",
    "size1 = (20, 12)\n",
    "size2 = (10, 6)\n",
    "size3 = (3, 2)\n",
    "n_channels = 64\n",
    "\n",
    "conv1 = nn.Conv2d(3, n_channels//2, kernel_size, stride = 1, padding = 1).to(device) \n",
    "conv2 = nn.Conv2d(n_channels//2, n_channels, kernel_size, stride = 1, padding = 1).to(device) \n",
    "conv3 = nn.Conv2d(n_channels, n_channels, kernel_size, stride = 1, padding = 1).to(device)\n",
    "conv4 = nn.Conv2d(n_channels, n_channels, kernel_size, stride = 1, padding = 1).to(device)\n",
    "conv_inv = nn.ConvTranspose2d(n_channels, n_channels, kernel_size, stride = 1, padding = 1).to(device)\n",
    "conv_inv2 = nn.ConvTranspose2d(n_channels, n_channels, kernel_size, stride = 1, padding = 1).to(device)\n",
    "conv_inv3 = nn.ConvTranspose2d(n_channels, 3, kernel_size, stride = 1, padding = 1).to(device)\n",
    "\n",
    "print(data.shape)\n",
    "\n",
    "x = conv1(data.float()).to(device)\n",
    "\n",
    "x = F.relu(x)\n",
    "x = F.interpolate(x, size = size1)\n",
    "print('Shape after conv1:', x.shape)\n",
    "x = conv2(x)\n",
    "\n",
    "x = F.relu(x)\n",
    "x = F.interpolate(x, size = size2)\n",
    "print('Shape after conv2:', x.shape)\n",
    "x = conv3(x)\n",
    "x = F.interpolate(x, size = size3)\n",
    "print('Shape after conv3:', x.shape)\n",
    "x = conv3(x)\n",
    "print('Shape after conv4:', x.shape)\n",
    "x = conv_inv(x)\n",
    "x = F.interpolate(x, size = size2)\n",
    "print('Shape after conv_inv1:', x.shape)\n",
    "x = F.relu(x)\n",
    "x = conv_inv2(x)\n",
    "x = F.interpolate(x, size = size1)\n",
    "print('Shape after conv_inv2:', x.shape)\n",
    "x = F.relu(x)\n",
    "x = conv_inv3(x)\n",
    "x = F.interpolate(x, size = (81,51))\n",
    "print('Shape after conv_inv3:', x.shape)"
   ]
  },
  {
   "cell_type": "markdown",
   "metadata": {},
   "source": [
    "## Analysis"
   ]
  },
  {
   "cell_type": "code",
   "execution_count": 66,
   "metadata": {},
   "outputs": [
    {
     "name": "stdout",
     "output_type": "stream",
     "text": [
      "Information about Convolutionnal Autoencoder with batch size 4\n",
      "size1 = (40, 25)\n",
      "size2 = (20, 12)\n",
      "size3 = (10, 6)\n",
      "size4 = (5, 3)\n",
      "num epoch = 10\n",
      "epoch 0, loss 0.029034920036792755\n",
      "epoch 1, loss 0.01875774934887886\n",
      "epoch 2, loss 0.021118486300110817\n",
      "epoch 3, loss 0.016747567802667618\n",
      "epoch 4, loss 0.018006030470132828\n",
      "epoch 5, loss 0.017337728291749954\n",
      "epoch 6, loss 0.017832938581705093\n",
      "epoch 7, loss 0.018179738894104958\n",
      "epoch 8, loss 0.01577593758702278\n",
      "epoch 9, loss 0.01628030464053154\n",
      "\n"
     ]
    }
   ],
   "source": [
    "batch_size = 4\n",
    "directory = f'{current_directory}/results/autoencoder/cnn/'\n",
    "\n",
    "with open(directory + f'model_bs{batch_size}_v2_info.txt', 'r') as file:\n",
    "    content = file.read()\n",
    "    print(content)"
   ]
  },
  {
   "cell_type": "code",
   "execution_count": 41,
   "metadata": {},
   "outputs": [
    {
     "name": "stdout",
     "output_type": "stream",
     "text": [
      "torch.Size([6249, 3, 81, 51])\n"
     ]
    }
   ],
   "source": [
    "X = simulation.X_rgb\n",
    "x = np.swapaxes(torch.from_numpy(X), 0, 1).cpu()\n",
    "x = x.float()\n",
    "\n",
    "print(x.shape)"
   ]
  },
  {
   "cell_type": "code",
   "execution_count": 67,
   "metadata": {},
   "outputs": [],
   "source": [
    "autoencoder = ConvolutionalAutoencoder(device)\n",
    "\n",
    "autoencoder.load_state_dict(torch.load(f'{current_directory}/results/autoencoder/cnn/model_bs{batch_size}_v2.pt'))\n",
    "autoencoder.eval()  # Set the model to evaluation mode\n",
    "\n",
    "\n",
    "with torch.no_grad():\n",
    "    encoded_data = autoencoder.encoder(x.to(device))\n",
    "\n",
    "with torch.no_grad():\n",
    "    decoded_data = autoencoder.decoder(encoded_data)"
   ]
  },
  {
   "cell_type": "code",
   "execution_count": 68,
   "metadata": {},
   "outputs": [
    {
     "data": {
      "text/plain": [
       "tensor([[[5.2884e-40, 5.2884e-40, 5.2884e-40],\n",
       "         [5.2884e-40, 5.2884e-40, 5.2884e-40],\n",
       "         [5.2884e-40, 5.2884e-40, 5.2884e-40],\n",
       "         [5.2884e-40, 5.2884e-40, 5.2884e-40],\n",
       "         [5.2884e-40, 5.2884e-40, 5.2884e-40]],\n",
       "\n",
       "        [[0.0000e+00, 0.0000e+00, 0.0000e+00],\n",
       "         [0.0000e+00, 0.0000e+00, 0.0000e+00],\n",
       "         [0.0000e+00, 0.0000e+00, 0.0000e+00],\n",
       "         [0.0000e+00, 0.0000e+00, 0.0000e+00],\n",
       "         [0.0000e+00, 0.0000e+00, 0.0000e+00]],\n",
       "\n",
       "        [[0.0000e+00, 0.0000e+00, 0.0000e+00],\n",
       "         [0.0000e+00, 0.0000e+00, 0.0000e+00],\n",
       "         [0.0000e+00, 0.0000e+00, 0.0000e+00],\n",
       "         [0.0000e+00, 0.0000e+00, 0.0000e+00],\n",
       "         [0.0000e+00, 0.0000e+00, 0.0000e+00]],\n",
       "\n",
       "        [[5.6885e-40, 5.6885e-40, 5.6885e-40],\n",
       "         [5.6885e-40, 5.6885e-40, 5.6885e-40],\n",
       "         [5.6885e-40, 5.6885e-40, 5.6885e-40],\n",
       "         [5.6885e-40, 5.6885e-40, 5.6885e-40],\n",
       "         [5.6885e-40, 5.6885e-40, 5.6885e-40]],\n",
       "\n",
       "        [[0.0000e+00, 0.0000e+00, 0.0000e+00],\n",
       "         [0.0000e+00, 0.0000e+00, 0.0000e+00],\n",
       "         [0.0000e+00, 0.0000e+00, 0.0000e+00],\n",
       "         [0.0000e+00, 0.0000e+00, 0.0000e+00],\n",
       "         [0.0000e+00, 0.0000e+00, 0.0000e+00]],\n",
       "\n",
       "        [[4.9334e-40, 4.9334e-40, 4.9334e-40],\n",
       "         [4.9334e-40, 4.9334e-40, 4.9334e-40],\n",
       "         [4.9334e-40, 4.9334e-40, 4.9334e-40],\n",
       "         [4.9334e-40, 4.9334e-40, 4.9334e-40],\n",
       "         [4.9334e-40, 4.9334e-40, 4.9334e-40]],\n",
       "\n",
       "        [[0.0000e+00, 0.0000e+00, 0.0000e+00],\n",
       "         [0.0000e+00, 0.0000e+00, 0.0000e+00],\n",
       "         [0.0000e+00, 0.0000e+00, 0.0000e+00],\n",
       "         [0.0000e+00, 0.0000e+00, 0.0000e+00],\n",
       "         [0.0000e+00, 0.0000e+00, 0.0000e+00]],\n",
       "\n",
       "        [[5.4281e-40, 5.4281e-40, 5.4281e-40],\n",
       "         [5.4281e-40, 5.4281e-40, 5.4281e-40],\n",
       "         [5.4281e-40, 5.4281e-40, 5.4281e-40],\n",
       "         [5.4281e-40, 5.4281e-40, 5.4281e-40],\n",
       "         [5.4281e-40, 5.4281e-40, 5.4281e-40]],\n",
       "\n",
       "        [[0.0000e+00, 0.0000e+00, 0.0000e+00],\n",
       "         [0.0000e+00, 0.0000e+00, 0.0000e+00],\n",
       "         [0.0000e+00, 0.0000e+00, 0.0000e+00],\n",
       "         [0.0000e+00, 0.0000e+00, 0.0000e+00],\n",
       "         [0.0000e+00, 0.0000e+00, 0.0000e+00]],\n",
       "\n",
       "        [[0.0000e+00, 0.0000e+00, 0.0000e+00],\n",
       "         [0.0000e+00, 0.0000e+00, 0.0000e+00],\n",
       "         [0.0000e+00, 0.0000e+00, 0.0000e+00],\n",
       "         [0.0000e+00, 0.0000e+00, 0.0000e+00],\n",
       "         [0.0000e+00, 0.0000e+00, 0.0000e+00]],\n",
       "\n",
       "        [[0.0000e+00, 0.0000e+00, 0.0000e+00],\n",
       "         [0.0000e+00, 0.0000e+00, 0.0000e+00],\n",
       "         [0.0000e+00, 0.0000e+00, 0.0000e+00],\n",
       "         [0.0000e+00, 0.0000e+00, 0.0000e+00],\n",
       "         [0.0000e+00, 0.0000e+00, 0.0000e+00]],\n",
       "\n",
       "        [[0.0000e+00, 0.0000e+00, 0.0000e+00],\n",
       "         [0.0000e+00, 0.0000e+00, 0.0000e+00],\n",
       "         [0.0000e+00, 0.0000e+00, 0.0000e+00],\n",
       "         [0.0000e+00, 0.0000e+00, 0.0000e+00],\n",
       "         [0.0000e+00, 0.0000e+00, 0.0000e+00]],\n",
       "\n",
       "        [[0.0000e+00, 0.0000e+00, 0.0000e+00],\n",
       "         [0.0000e+00, 0.0000e+00, 0.0000e+00],\n",
       "         [0.0000e+00, 0.0000e+00, 0.0000e+00],\n",
       "         [0.0000e+00, 0.0000e+00, 0.0000e+00],\n",
       "         [0.0000e+00, 0.0000e+00, 0.0000e+00]],\n",
       "\n",
       "        [[4.9706e-40, 4.9706e-40, 4.9706e-40],\n",
       "         [4.9706e-40, 4.9706e-40, 4.9706e-40],\n",
       "         [4.9706e-40, 4.9706e-40, 4.9706e-40],\n",
       "         [4.9706e-40, 4.9706e-40, 4.9706e-40],\n",
       "         [4.9706e-40, 4.9706e-40, 4.9706e-40]],\n",
       "\n",
       "        [[0.0000e+00, 0.0000e+00, 0.0000e+00],\n",
       "         [0.0000e+00, 0.0000e+00, 0.0000e+00],\n",
       "         [0.0000e+00, 0.0000e+00, 0.0000e+00],\n",
       "         [0.0000e+00, 0.0000e+00, 0.0000e+00],\n",
       "         [0.0000e+00, 0.0000e+00, 0.0000e+00]],\n",
       "\n",
       "        [[6.1790e-40, 6.1790e-40, 6.1790e-40],\n",
       "         [6.1790e-40, 6.1790e-40, 6.1790e-40],\n",
       "         [6.1790e-40, 6.1790e-40, 6.1790e-40],\n",
       "         [6.1790e-40, 6.1790e-40, 6.1790e-40],\n",
       "         [6.1790e-40, 6.1790e-40, 6.1790e-40]],\n",
       "\n",
       "        [[5.2202e-40, 5.2202e-40, 5.2202e-40],\n",
       "         [5.2202e-40, 5.2202e-40, 5.2202e-40],\n",
       "         [5.2202e-40, 5.2202e-40, 5.2202e-40],\n",
       "         [5.2202e-40, 5.2202e-40, 5.2202e-40],\n",
       "         [5.2202e-40, 5.2202e-40, 5.2202e-40]],\n",
       "\n",
       "        [[5.9279e-40, 5.9279e-40, 5.9279e-40],\n",
       "         [5.9279e-40, 5.9279e-40, 5.9279e-40],\n",
       "         [5.9279e-40, 5.9279e-40, 5.9279e-40],\n",
       "         [5.9279e-40, 5.9279e-40, 5.9279e-40],\n",
       "         [5.9279e-40, 5.9279e-40, 5.9279e-40]],\n",
       "\n",
       "        [[5.0367e-40, 5.0367e-40, 5.0367e-40],\n",
       "         [5.0367e-40, 5.0367e-40, 5.0367e-40],\n",
       "         [5.0367e-40, 5.0367e-40, 5.0367e-40],\n",
       "         [5.0367e-40, 5.0367e-40, 5.0367e-40],\n",
       "         [5.0367e-40, 5.0367e-40, 5.0367e-40]],\n",
       "\n",
       "        [[5.1071e-40, 5.1071e-40, 5.1071e-40],\n",
       "         [5.1071e-40, 5.1071e-40, 5.1071e-40],\n",
       "         [5.1071e-40, 5.1071e-40, 5.1071e-40],\n",
       "         [5.1071e-40, 5.1071e-40, 5.1071e-40],\n",
       "         [5.1071e-40, 5.1071e-40, 5.1071e-40]],\n",
       "\n",
       "        [[5.1402e-40, 5.1402e-40, 5.1402e-40],\n",
       "         [5.1402e-40, 5.1402e-40, 5.1402e-40],\n",
       "         [5.1402e-40, 5.1402e-40, 5.1402e-40],\n",
       "         [5.1402e-40, 5.1402e-40, 5.1402e-40],\n",
       "         [5.1402e-40, 5.1402e-40, 5.1402e-40]],\n",
       "\n",
       "        [[5.1640e-40, 5.1640e-40, 5.1640e-40],\n",
       "         [5.1640e-40, 5.1640e-40, 5.1640e-40],\n",
       "         [5.1640e-40, 5.1640e-40, 5.1640e-40],\n",
       "         [5.1640e-40, 5.1640e-40, 5.1640e-40],\n",
       "         [5.1640e-40, 5.1640e-40, 5.1640e-40]],\n",
       "\n",
       "        [[0.0000e+00, 0.0000e+00, 0.0000e+00],\n",
       "         [0.0000e+00, 0.0000e+00, 0.0000e+00],\n",
       "         [0.0000e+00, 0.0000e+00, 0.0000e+00],\n",
       "         [0.0000e+00, 0.0000e+00, 0.0000e+00],\n",
       "         [0.0000e+00, 0.0000e+00, 0.0000e+00]],\n",
       "\n",
       "        [[0.0000e+00, 0.0000e+00, 0.0000e+00],\n",
       "         [0.0000e+00, 0.0000e+00, 0.0000e+00],\n",
       "         [0.0000e+00, 0.0000e+00, 0.0000e+00],\n",
       "         [0.0000e+00, 0.0000e+00, 0.0000e+00],\n",
       "         [0.0000e+00, 0.0000e+00, 0.0000e+00]],\n",
       "\n",
       "        [[5.0217e-40, 5.0217e-40, 5.0217e-40],\n",
       "         [5.0217e-40, 5.0217e-40, 5.0217e-40],\n",
       "         [5.0217e-40, 5.0217e-40, 5.0217e-40],\n",
       "         [5.0217e-40, 5.0217e-40, 5.0217e-40],\n",
       "         [5.0217e-40, 5.0217e-40, 5.0217e-40]],\n",
       "\n",
       "        [[0.0000e+00, 0.0000e+00, 0.0000e+00],\n",
       "         [0.0000e+00, 0.0000e+00, 0.0000e+00],\n",
       "         [0.0000e+00, 0.0000e+00, 0.0000e+00],\n",
       "         [0.0000e+00, 0.0000e+00, 0.0000e+00],\n",
       "         [0.0000e+00, 0.0000e+00, 0.0000e+00]],\n",
       "\n",
       "        [[0.0000e+00, 0.0000e+00, 0.0000e+00],\n",
       "         [0.0000e+00, 0.0000e+00, 0.0000e+00],\n",
       "         [0.0000e+00, 0.0000e+00, 0.0000e+00],\n",
       "         [0.0000e+00, 0.0000e+00, 0.0000e+00],\n",
       "         [0.0000e+00, 0.0000e+00, 0.0000e+00]],\n",
       "\n",
       "        [[4.9973e-40, 4.9973e-40, 4.9973e-40],\n",
       "         [4.9973e-40, 4.9973e-40, 4.9973e-40],\n",
       "         [4.9973e-40, 4.9973e-40, 4.9973e-40],\n",
       "         [4.9973e-40, 4.9973e-40, 4.9973e-40],\n",
       "         [4.9973e-40, 4.9973e-40, 4.9973e-40]],\n",
       "\n",
       "        [[5.8225e-40, 5.8225e-40, 5.8225e-40],\n",
       "         [5.8225e-40, 5.8225e-40, 5.8225e-40],\n",
       "         [5.8225e-40, 5.8225e-40, 5.8225e-40],\n",
       "         [5.8225e-40, 5.8225e-40, 5.8225e-40],\n",
       "         [5.8225e-40, 5.8225e-40, 5.8225e-40]],\n",
       "\n",
       "        [[5.6975e-40, 5.6975e-40, 5.6975e-40],\n",
       "         [5.6975e-40, 5.6975e-40, 5.6975e-40],\n",
       "         [5.6975e-40, 5.6975e-40, 5.6975e-40],\n",
       "         [5.6975e-40, 5.6975e-40, 5.6975e-40],\n",
       "         [5.6975e-40, 5.6975e-40, 5.6975e-40]],\n",
       "\n",
       "        [[5.7629e-40, 5.7629e-40, 5.7629e-40],\n",
       "         [5.7629e-40, 5.7629e-40, 5.7629e-40],\n",
       "         [5.7629e-40, 5.7629e-40, 5.7629e-40],\n",
       "         [5.7629e-40, 5.7629e-40, 5.7629e-40],\n",
       "         [5.7629e-40, 5.7629e-40, 5.7629e-40]],\n",
       "\n",
       "        [[4.9255e-40, 4.9255e-40, 4.9255e-40],\n",
       "         [4.9255e-40, 4.9255e-40, 4.9255e-40],\n",
       "         [4.9255e-40, 4.9255e-40, 4.9255e-40],\n",
       "         [4.9255e-40, 4.9255e-40, 4.9255e-40],\n",
       "         [4.9255e-40, 4.9255e-40, 4.9255e-40]],\n",
       "\n",
       "        [[5.0694e-40, 5.0694e-40, 5.0694e-40],\n",
       "         [5.0694e-40, 5.0694e-40, 5.0694e-40],\n",
       "         [5.0694e-40, 5.0694e-40, 5.0694e-40],\n",
       "         [5.0694e-40, 5.0694e-40, 5.0694e-40],\n",
       "         [5.0694e-40, 5.0694e-40, 5.0694e-40]],\n",
       "\n",
       "        [[0.0000e+00, 0.0000e+00, 0.0000e+00],\n",
       "         [0.0000e+00, 0.0000e+00, 0.0000e+00],\n",
       "         [0.0000e+00, 0.0000e+00, 0.0000e+00],\n",
       "         [0.0000e+00, 0.0000e+00, 0.0000e+00],\n",
       "         [0.0000e+00, 0.0000e+00, 0.0000e+00]],\n",
       "\n",
       "        [[5.7768e-40, 5.7768e-40, 5.7768e-40],\n",
       "         [5.7768e-40, 5.7768e-40, 5.7768e-40],\n",
       "         [5.7768e-40, 5.7768e-40, 5.7768e-40],\n",
       "         [5.7768e-40, 5.7768e-40, 5.7768e-40],\n",
       "         [5.7768e-40, 5.7768e-40, 5.7768e-40]],\n",
       "\n",
       "        [[5.7800e-40, 5.7800e-40, 5.7800e-40],\n",
       "         [5.7800e-40, 5.7800e-40, 5.7800e-40],\n",
       "         [5.7800e-40, 5.7800e-40, 5.7800e-40],\n",
       "         [5.7800e-40, 5.7800e-40, 5.7800e-40],\n",
       "         [5.7800e-40, 5.7800e-40, 5.7800e-40]],\n",
       "\n",
       "        [[0.0000e+00, 0.0000e+00, 0.0000e+00],\n",
       "         [0.0000e+00, 0.0000e+00, 0.0000e+00],\n",
       "         [0.0000e+00, 0.0000e+00, 0.0000e+00],\n",
       "         [0.0000e+00, 0.0000e+00, 0.0000e+00],\n",
       "         [0.0000e+00, 0.0000e+00, 0.0000e+00]],\n",
       "\n",
       "        [[0.0000e+00, 0.0000e+00, 0.0000e+00],\n",
       "         [0.0000e+00, 0.0000e+00, 0.0000e+00],\n",
       "         [0.0000e+00, 0.0000e+00, 0.0000e+00],\n",
       "         [0.0000e+00, 0.0000e+00, 0.0000e+00],\n",
       "         [0.0000e+00, 0.0000e+00, 0.0000e+00]],\n",
       "\n",
       "        [[0.0000e+00, 0.0000e+00, 0.0000e+00],\n",
       "         [0.0000e+00, 0.0000e+00, 0.0000e+00],\n",
       "         [0.0000e+00, 0.0000e+00, 0.0000e+00],\n",
       "         [0.0000e+00, 0.0000e+00, 0.0000e+00],\n",
       "         [0.0000e+00, 0.0000e+00, 0.0000e+00]],\n",
       "\n",
       "        [[0.0000e+00, 0.0000e+00, 0.0000e+00],\n",
       "         [0.0000e+00, 0.0000e+00, 0.0000e+00],\n",
       "         [0.0000e+00, 0.0000e+00, 0.0000e+00],\n",
       "         [0.0000e+00, 0.0000e+00, 0.0000e+00],\n",
       "         [0.0000e+00, 0.0000e+00, 0.0000e+00]],\n",
       "\n",
       "        [[5.6949e-40, 5.6949e-40, 5.6949e-40],\n",
       "         [5.6949e-40, 5.6949e-40, 5.6949e-40],\n",
       "         [5.6949e-40, 5.6949e-40, 5.6949e-40],\n",
       "         [5.6949e-40, 5.6949e-40, 5.6949e-40],\n",
       "         [5.6949e-40, 5.6949e-40, 5.6949e-40]],\n",
       "\n",
       "        [[0.0000e+00, 0.0000e+00, 0.0000e+00],\n",
       "         [0.0000e+00, 0.0000e+00, 0.0000e+00],\n",
       "         [0.0000e+00, 0.0000e+00, 0.0000e+00],\n",
       "         [0.0000e+00, 0.0000e+00, 0.0000e+00],\n",
       "         [0.0000e+00, 0.0000e+00, 0.0000e+00]],\n",
       "\n",
       "        [[5.0920e-40, 5.0920e-40, 5.0920e-40],\n",
       "         [5.0920e-40, 5.0920e-40, 5.0920e-40],\n",
       "         [5.0920e-40, 5.0920e-40, 5.0920e-40],\n",
       "         [5.0920e-40, 5.0920e-40, 5.0920e-40],\n",
       "         [5.0920e-40, 5.0920e-40, 5.0920e-40]],\n",
       "\n",
       "        [[0.0000e+00, 0.0000e+00, 0.0000e+00],\n",
       "         [0.0000e+00, 0.0000e+00, 0.0000e+00],\n",
       "         [0.0000e+00, 0.0000e+00, 0.0000e+00],\n",
       "         [0.0000e+00, 0.0000e+00, 0.0000e+00],\n",
       "         [0.0000e+00, 0.0000e+00, 0.0000e+00]],\n",
       "\n",
       "        [[6.0020e-40, 6.0020e-40, 6.0020e-40],\n",
       "         [6.0020e-40, 6.0020e-40, 6.0020e-40],\n",
       "         [6.0020e-40, 6.0020e-40, 6.0020e-40],\n",
       "         [6.0020e-40, 6.0020e-40, 6.0020e-40],\n",
       "         [6.0020e-40, 6.0020e-40, 6.0020e-40]],\n",
       "\n",
       "        [[0.0000e+00, 0.0000e+00, 0.0000e+00],\n",
       "         [0.0000e+00, 0.0000e+00, 0.0000e+00],\n",
       "         [0.0000e+00, 0.0000e+00, 0.0000e+00],\n",
       "         [0.0000e+00, 0.0000e+00, 0.0000e+00],\n",
       "         [0.0000e+00, 0.0000e+00, 0.0000e+00]],\n",
       "\n",
       "        [[0.0000e+00, 0.0000e+00, 0.0000e+00],\n",
       "         [0.0000e+00, 0.0000e+00, 0.0000e+00],\n",
       "         [0.0000e+00, 0.0000e+00, 0.0000e+00],\n",
       "         [0.0000e+00, 0.0000e+00, 0.0000e+00],\n",
       "         [0.0000e+00, 0.0000e+00, 0.0000e+00]],\n",
       "\n",
       "        [[5.2742e-40, 5.2742e-40, 5.2742e-40],\n",
       "         [5.2742e-40, 5.2742e-40, 5.2742e-40],\n",
       "         [5.2742e-40, 5.2742e-40, 5.2742e-40],\n",
       "         [5.2742e-40, 5.2742e-40, 5.2742e-40],\n",
       "         [5.2742e-40, 5.2742e-40, 5.2742e-40]],\n",
       "\n",
       "        [[0.0000e+00, 0.0000e+00, 0.0000e+00],\n",
       "         [0.0000e+00, 0.0000e+00, 0.0000e+00],\n",
       "         [0.0000e+00, 0.0000e+00, 0.0000e+00],\n",
       "         [0.0000e+00, 0.0000e+00, 0.0000e+00],\n",
       "         [0.0000e+00, 0.0000e+00, 0.0000e+00]],\n",
       "\n",
       "        [[0.0000e+00, 0.0000e+00, 0.0000e+00],\n",
       "         [0.0000e+00, 0.0000e+00, 0.0000e+00],\n",
       "         [0.0000e+00, 0.0000e+00, 0.0000e+00],\n",
       "         [0.0000e+00, 0.0000e+00, 0.0000e+00],\n",
       "         [0.0000e+00, 0.0000e+00, 0.0000e+00]],\n",
       "\n",
       "        [[0.0000e+00, 0.0000e+00, 0.0000e+00],\n",
       "         [0.0000e+00, 0.0000e+00, 0.0000e+00],\n",
       "         [0.0000e+00, 0.0000e+00, 0.0000e+00],\n",
       "         [0.0000e+00, 0.0000e+00, 0.0000e+00],\n",
       "         [0.0000e+00, 0.0000e+00, 0.0000e+00]],\n",
       "\n",
       "        [[0.0000e+00, 0.0000e+00, 0.0000e+00],\n",
       "         [0.0000e+00, 0.0000e+00, 0.0000e+00],\n",
       "         [0.0000e+00, 0.0000e+00, 0.0000e+00],\n",
       "         [0.0000e+00, 0.0000e+00, 0.0000e+00],\n",
       "         [0.0000e+00, 0.0000e+00, 0.0000e+00]],\n",
       "\n",
       "        [[0.0000e+00, 0.0000e+00, 0.0000e+00],\n",
       "         [0.0000e+00, 0.0000e+00, 0.0000e+00],\n",
       "         [0.0000e+00, 0.0000e+00, 0.0000e+00],\n",
       "         [0.0000e+00, 0.0000e+00, 0.0000e+00],\n",
       "         [0.0000e+00, 0.0000e+00, 0.0000e+00]],\n",
       "\n",
       "        [[5.0450e-40, 5.0450e-40, 5.0450e-40],\n",
       "         [5.0450e-40, 5.0450e-40, 5.0450e-40],\n",
       "         [5.0450e-40, 5.0450e-40, 5.0450e-40],\n",
       "         [5.0450e-40, 5.0450e-40, 5.0450e-40],\n",
       "         [5.0450e-40, 5.0450e-40, 5.0450e-40]],\n",
       "\n",
       "        [[5.0799e-40, 5.0799e-40, 5.0799e-40],\n",
       "         [5.0799e-40, 5.0799e-40, 5.0799e-40],\n",
       "         [5.0799e-40, 5.0799e-40, 5.0799e-40],\n",
       "         [5.0799e-40, 5.0799e-40, 5.0799e-40],\n",
       "         [5.0799e-40, 5.0799e-40, 5.0799e-40]],\n",
       "\n",
       "        [[5.7135e-40, 5.7135e-40, 5.7135e-40],\n",
       "         [5.7135e-40, 5.7135e-40, 5.7135e-40],\n",
       "         [5.7135e-40, 5.7135e-40, 5.7135e-40],\n",
       "         [5.7135e-40, 5.7135e-40, 5.7135e-40],\n",
       "         [5.7135e-40, 5.7135e-40, 5.7135e-40]],\n",
       "\n",
       "        [[5.3492e-40, 5.3492e-40, 5.3492e-40],\n",
       "         [5.3492e-40, 5.3492e-40, 5.3492e-40],\n",
       "         [5.3492e-40, 5.3492e-40, 5.3492e-40],\n",
       "         [5.3492e-40, 5.3492e-40, 5.3492e-40],\n",
       "         [5.3492e-40, 5.3492e-40, 5.3492e-40]],\n",
       "\n",
       "        [[0.0000e+00, 0.0000e+00, 0.0000e+00],\n",
       "         [0.0000e+00, 0.0000e+00, 0.0000e+00],\n",
       "         [0.0000e+00, 0.0000e+00, 0.0000e+00],\n",
       "         [0.0000e+00, 0.0000e+00, 0.0000e+00],\n",
       "         [0.0000e+00, 0.0000e+00, 0.0000e+00]],\n",
       "\n",
       "        [[5.0750e-40, 5.0750e-40, 5.0750e-40],\n",
       "         [5.0750e-40, 5.0750e-40, 5.0750e-40],\n",
       "         [5.0750e-40, 5.0750e-40, 5.0750e-40],\n",
       "         [5.0750e-40, 5.0750e-40, 5.0750e-40],\n",
       "         [5.0750e-40, 5.0750e-40, 5.0750e-40]],\n",
       "\n",
       "        [[0.0000e+00, 0.0000e+00, 0.0000e+00],\n",
       "         [0.0000e+00, 0.0000e+00, 0.0000e+00],\n",
       "         [0.0000e+00, 0.0000e+00, 0.0000e+00],\n",
       "         [0.0000e+00, 0.0000e+00, 0.0000e+00],\n",
       "         [0.0000e+00, 0.0000e+00, 0.0000e+00]],\n",
       "\n",
       "        [[0.0000e+00, 0.0000e+00, 0.0000e+00],\n",
       "         [0.0000e+00, 0.0000e+00, 0.0000e+00],\n",
       "         [0.0000e+00, 0.0000e+00, 0.0000e+00],\n",
       "         [0.0000e+00, 0.0000e+00, 0.0000e+00],\n",
       "         [0.0000e+00, 0.0000e+00, 0.0000e+00]],\n",
       "\n",
       "        [[5.1369e-40, 5.1369e-40, 5.1369e-40],\n",
       "         [5.1369e-40, 5.1369e-40, 5.1369e-40],\n",
       "         [5.1369e-40, 5.1369e-40, 5.1369e-40],\n",
       "         [5.1369e-40, 5.1369e-40, 5.1369e-40],\n",
       "         [5.1369e-40, 5.1369e-40, 5.1369e-40]],\n",
       "\n",
       "        [[5.3027e-40, 5.3027e-40, 5.3027e-40],\n",
       "         [5.3027e-40, 5.3027e-40, 5.3027e-40],\n",
       "         [5.3027e-40, 5.3027e-40, 5.3027e-40],\n",
       "         [5.3027e-40, 5.3027e-40, 5.3027e-40],\n",
       "         [5.3027e-40, 5.3027e-40, 5.3027e-40]],\n",
       "\n",
       "        [[5.2282e-40, 5.2282e-40, 5.2282e-40],\n",
       "         [5.2282e-40, 5.2282e-40, 5.2282e-40],\n",
       "         [5.2282e-40, 5.2282e-40, 5.2282e-40],\n",
       "         [5.2282e-40, 5.2282e-40, 5.2282e-40],\n",
       "         [5.2282e-40, 5.2282e-40, 5.2282e-40]]], device='cuda:0')"
      ]
     },
     "execution_count": 68,
     "metadata": {},
     "output_type": "execute_result"
    }
   ],
   "source": [
    "encoded_data[0]"
   ]
  },
  {
   "cell_type": "code",
   "execution_count": 69,
   "metadata": {},
   "outputs": [
    {
     "ename": "ValueError",
     "evalue": "Contour levels must be increasing",
     "output_type": "error",
     "traceback": [
      "\u001b[0;31m---------------------------------------------------------------------------\u001b[0m",
      "\u001b[0;31mValueError\u001b[0m                                Traceback (most recent call last)",
      "Cell \u001b[0;32mIn[69], line 6\u001b[0m\n\u001b[1;32m      3\u001b[0m decoded_simulation\u001b[38;5;241m.\u001b[39mreconstruct_simulation(decoded_data\u001b[38;5;241m.\u001b[39mcpu()\u001b[38;5;241m.\u001b[39mnumpy(), rgb \u001b[38;5;241m=\u001b[39m \u001b[38;5;28;01mTrue\u001b[39;00m)\n\u001b[1;32m      5\u001b[0m t \u001b[38;5;241m=\u001b[39m \u001b[38;5;241m1369\u001b[39m\n\u001b[0;32m----> 6\u001b[0m \u001b[43mdecoded_simulation\u001b[49m\u001b[38;5;241;43m.\u001b[39;49m\u001b[43mplot_field\u001b[49m\u001b[43m(\u001b[49m\u001b[43mt\u001b[49m\u001b[43m)\u001b[49m\n\u001b[1;32m      7\u001b[0m simulation\u001b[38;5;241m.\u001b[39mplot_field(t)\n",
      "File \u001b[0;32m/projects/IceDynamics/Stage_M2/code/data_analysis.py:154\u001b[0m, in \u001b[0;36mSimulation.plot_field\u001b[0;34m(self, t, save, directory)\u001b[0m\n\u001b[1;32m    144\u001b[0m ax\u001b[38;5;241m.\u001b[39mstreamplot(\n\u001b[1;32m    145\u001b[0m     \u001b[38;5;28mself\u001b[39m\u001b[38;5;241m.\u001b[39mx\u001b[38;5;241m.\u001b[39mT,\n\u001b[1;32m    146\u001b[0m     \u001b[38;5;28mself\u001b[39m\u001b[38;5;241m.\u001b[39mz\u001b[38;5;241m.\u001b[39mT,\n\u001b[0;32m   (...)\u001b[0m\n\u001b[1;32m    151\u001b[0m     linewidth\u001b[38;5;241m=\u001b[39m\u001b[38;5;241m1\u001b[39m,\n\u001b[1;32m    152\u001b[0m )\n\u001b[1;32m    153\u001b[0m levels \u001b[38;5;241m=\u001b[39m np\u001b[38;5;241m.\u001b[39mlinspace(vmin, vmax, \u001b[38;5;241m20\u001b[39m)\n\u001b[0;32m--> 154\u001b[0m cf0 \u001b[38;5;241m=\u001b[39m \u001b[43max\u001b[49m\u001b[38;5;241;43m.\u001b[39;49m\u001b[43mcontourf\u001b[49m\u001b[43m(\u001b[49m\n\u001b[1;32m    155\u001b[0m \u001b[43m    \u001b[49m\u001b[38;5;28;43mself\u001b[39;49m\u001b[38;5;241;43m.\u001b[39;49m\u001b[43mx\u001b[49m\u001b[43m,\u001b[49m\n\u001b[1;32m    156\u001b[0m \u001b[43m    \u001b[49m\u001b[38;5;28;43mself\u001b[39;49m\u001b[38;5;241;43m.\u001b[39;49m\u001b[43mz\u001b[49m\u001b[43m,\u001b[49m\n\u001b[1;32m    157\u001b[0m \u001b[43m    \u001b[49m\u001b[38;5;28;43mself\u001b[39;49m\u001b[38;5;241;43m.\u001b[39;49m\u001b[43mT\u001b[49m\u001b[43m[\u001b[49m\u001b[43mt\u001b[49m\u001b[43m,\u001b[49m\u001b[43m \u001b[49m\u001b[43m:\u001b[49m\u001b[43m,\u001b[49m\u001b[43m \u001b[49m\u001b[43m:\u001b[49m\u001b[43m]\u001b[49m\u001b[43m,\u001b[49m\n\u001b[1;32m    158\u001b[0m \u001b[43m    \u001b[49m\u001b[43mlevels\u001b[49m\u001b[38;5;241;43m=\u001b[39;49m\u001b[43mlevels\u001b[49m\u001b[43m,\u001b[49m\n\u001b[1;32m    159\u001b[0m \u001b[43m    \u001b[49m\u001b[43mcmap\u001b[49m\u001b[38;5;241;43m=\u001b[39;49m\u001b[43mcm\u001b[49m\u001b[38;5;241;43m.\u001b[39;49m\u001b[43mSpectral\u001b[49m\u001b[38;5;241;43m.\u001b[39;49m\u001b[43mreversed\u001b[49m\u001b[43m(\u001b[49m\u001b[43m)\u001b[49m\u001b[43m,\u001b[49m\n\u001b[1;32m    160\u001b[0m \u001b[43m    \u001b[49m\u001b[43mnorm\u001b[49m\u001b[38;5;241;43m=\u001b[39;49m\u001b[43mmatplotlib\u001b[49m\u001b[38;5;241;43m.\u001b[39;49m\u001b[43mcolors\u001b[49m\u001b[38;5;241;43m.\u001b[39;49m\u001b[43mNormalize\u001b[49m\u001b[43m(\u001b[49m\u001b[43mvmin\u001b[49m\u001b[38;5;241;43m=\u001b[39;49m\u001b[43mvmin\u001b[49m\u001b[43m,\u001b[49m\u001b[43m \u001b[49m\u001b[43mvmax\u001b[49m\u001b[38;5;241;43m=\u001b[39;49m\u001b[43mvmax\u001b[49m\u001b[43m)\u001b[49m\u001b[43m,\u001b[49m\n\u001b[1;32m    161\u001b[0m \u001b[43m\u001b[49m\u001b[43m)\u001b[49m\n\u001b[1;32m    162\u001b[0m cbar \u001b[38;5;241m=\u001b[39m plt\u001b[38;5;241m.\u001b[39mcolorbar(cf0, ax\u001b[38;5;241m=\u001b[39max, shrink\u001b[38;5;241m=\u001b[39m\u001b[38;5;241m0.35\u001b[39m, aspect\u001b[38;5;241m=\u001b[39m\u001b[38;5;241m6\u001b[39m, ticks\u001b[38;5;241m=\u001b[39m [vmin, \u001b[38;5;241m0\u001b[39m, vmax])\n\u001b[1;32m    163\u001b[0m cbar\u001b[38;5;241m.\u001b[39max\u001b[38;5;241m.\u001b[39mset_aspect(\u001b[38;5;124m\"\u001b[39m\u001b[38;5;124mauto\u001b[39m\u001b[38;5;124m\"\u001b[39m)\n",
      "File \u001b[0;32m/projects/IceDynamics/Stage_M2/.venv/lib/python3.11/site-packages/matplotlib/__init__.py:1465\u001b[0m, in \u001b[0;36m_preprocess_data.<locals>.inner\u001b[0;34m(ax, data, *args, **kwargs)\u001b[0m\n\u001b[1;32m   1462\u001b[0m \u001b[38;5;129m@functools\u001b[39m\u001b[38;5;241m.\u001b[39mwraps(func)\n\u001b[1;32m   1463\u001b[0m \u001b[38;5;28;01mdef\u001b[39;00m \u001b[38;5;21minner\u001b[39m(ax, \u001b[38;5;241m*\u001b[39margs, data\u001b[38;5;241m=\u001b[39m\u001b[38;5;28;01mNone\u001b[39;00m, \u001b[38;5;241m*\u001b[39m\u001b[38;5;241m*\u001b[39mkwargs):\n\u001b[1;32m   1464\u001b[0m     \u001b[38;5;28;01mif\u001b[39;00m data \u001b[38;5;129;01mis\u001b[39;00m \u001b[38;5;28;01mNone\u001b[39;00m:\n\u001b[0;32m-> 1465\u001b[0m         \u001b[38;5;28;01mreturn\u001b[39;00m \u001b[43mfunc\u001b[49m\u001b[43m(\u001b[49m\u001b[43max\u001b[49m\u001b[43m,\u001b[49m\u001b[43m \u001b[49m\u001b[38;5;241;43m*\u001b[39;49m\u001b[38;5;28;43mmap\u001b[39;49m\u001b[43m(\u001b[49m\u001b[43msanitize_sequence\u001b[49m\u001b[43m,\u001b[49m\u001b[43m \u001b[49m\u001b[43margs\u001b[49m\u001b[43m)\u001b[49m\u001b[43m,\u001b[49m\u001b[43m \u001b[49m\u001b[38;5;241;43m*\u001b[39;49m\u001b[38;5;241;43m*\u001b[39;49m\u001b[43mkwargs\u001b[49m\u001b[43m)\u001b[49m\n\u001b[1;32m   1467\u001b[0m     bound \u001b[38;5;241m=\u001b[39m new_sig\u001b[38;5;241m.\u001b[39mbind(ax, \u001b[38;5;241m*\u001b[39margs, \u001b[38;5;241m*\u001b[39m\u001b[38;5;241m*\u001b[39mkwargs)\n\u001b[1;32m   1468\u001b[0m     auto_label \u001b[38;5;241m=\u001b[39m (bound\u001b[38;5;241m.\u001b[39marguments\u001b[38;5;241m.\u001b[39mget(label_namer)\n\u001b[1;32m   1469\u001b[0m                   \u001b[38;5;129;01mor\u001b[39;00m bound\u001b[38;5;241m.\u001b[39mkwargs\u001b[38;5;241m.\u001b[39mget(label_namer))\n",
      "File \u001b[0;32m/projects/IceDynamics/Stage_M2/.venv/lib/python3.11/site-packages/matplotlib/axes/_axes.py:6536\u001b[0m, in \u001b[0;36mAxes.contourf\u001b[0;34m(self, *args, **kwargs)\u001b[0m\n\u001b[1;32m   6527\u001b[0m \u001b[38;5;250m\u001b[39m\u001b[38;5;124;03m\"\"\"\u001b[39;00m\n\u001b[1;32m   6528\u001b[0m \u001b[38;5;124;03mPlot filled contours.\u001b[39;00m\n\u001b[1;32m   6529\u001b[0m \n\u001b[0;32m   (...)\u001b[0m\n\u001b[1;32m   6533\u001b[0m \u001b[38;5;124;03m%(contour_doc)s\u001b[39;00m\n\u001b[1;32m   6534\u001b[0m \u001b[38;5;124;03m\"\"\"\u001b[39;00m\n\u001b[1;32m   6535\u001b[0m kwargs[\u001b[38;5;124m'\u001b[39m\u001b[38;5;124mfilled\u001b[39m\u001b[38;5;124m'\u001b[39m] \u001b[38;5;241m=\u001b[39m \u001b[38;5;28;01mTrue\u001b[39;00m\n\u001b[0;32m-> 6536\u001b[0m contours \u001b[38;5;241m=\u001b[39m \u001b[43mmcontour\u001b[49m\u001b[38;5;241;43m.\u001b[39;49m\u001b[43mQuadContourSet\u001b[49m\u001b[43m(\u001b[49m\u001b[38;5;28;43mself\u001b[39;49m\u001b[43m,\u001b[49m\u001b[43m \u001b[49m\u001b[38;5;241;43m*\u001b[39;49m\u001b[43margs\u001b[49m\u001b[43m,\u001b[49m\u001b[43m \u001b[49m\u001b[38;5;241;43m*\u001b[39;49m\u001b[38;5;241;43m*\u001b[39;49m\u001b[43mkwargs\u001b[49m\u001b[43m)\u001b[49m\n\u001b[1;32m   6537\u001b[0m \u001b[38;5;28mself\u001b[39m\u001b[38;5;241m.\u001b[39m_request_autoscale_view()\n\u001b[1;32m   6538\u001b[0m \u001b[38;5;28;01mreturn\u001b[39;00m contours\n",
      "File \u001b[0;32m/projects/IceDynamics/Stage_M2/.venv/lib/python3.11/site-packages/matplotlib/contour.py:858\u001b[0m, in \u001b[0;36mContourSet.__init__\u001b[0;34m(self, ax, levels, filled, linewidths, linestyles, hatches, alpha, origin, extent, cmap, colors, norm, vmin, vmax, extend, antialiased, nchunk, locator, transform, negative_linestyles, clip_path, *args, **kwargs)\u001b[0m\n\u001b[1;32m    854\u001b[0m \u001b[38;5;28;01mif\u001b[39;00m \u001b[38;5;28mself\u001b[39m\u001b[38;5;241m.\u001b[39mnegative_linestyles \u001b[38;5;129;01mis\u001b[39;00m \u001b[38;5;28;01mNone\u001b[39;00m:\n\u001b[1;32m    855\u001b[0m     \u001b[38;5;28mself\u001b[39m\u001b[38;5;241m.\u001b[39mnegative_linestyles \u001b[38;5;241m=\u001b[39m \\\n\u001b[1;32m    856\u001b[0m         mpl\u001b[38;5;241m.\u001b[39mrcParams[\u001b[38;5;124m'\u001b[39m\u001b[38;5;124mcontour.negative_linestyle\u001b[39m\u001b[38;5;124m'\u001b[39m]\n\u001b[0;32m--> 858\u001b[0m kwargs \u001b[38;5;241m=\u001b[39m \u001b[38;5;28;43mself\u001b[39;49m\u001b[38;5;241;43m.\u001b[39;49m\u001b[43m_process_args\u001b[49m\u001b[43m(\u001b[49m\u001b[38;5;241;43m*\u001b[39;49m\u001b[43margs\u001b[49m\u001b[43m,\u001b[49m\u001b[43m \u001b[49m\u001b[38;5;241;43m*\u001b[39;49m\u001b[38;5;241;43m*\u001b[39;49m\u001b[43mkwargs\u001b[49m\u001b[43m)\u001b[49m\n\u001b[1;32m    859\u001b[0m \u001b[38;5;28mself\u001b[39m\u001b[38;5;241m.\u001b[39m_process_levels()\n\u001b[1;32m    861\u001b[0m \u001b[38;5;28mself\u001b[39m\u001b[38;5;241m.\u001b[39m_extend_min \u001b[38;5;241m=\u001b[39m \u001b[38;5;28mself\u001b[39m\u001b[38;5;241m.\u001b[39mextend \u001b[38;5;129;01min\u001b[39;00m [\u001b[38;5;124m'\u001b[39m\u001b[38;5;124mmin\u001b[39m\u001b[38;5;124m'\u001b[39m, \u001b[38;5;124m'\u001b[39m\u001b[38;5;124mboth\u001b[39m\u001b[38;5;124m'\u001b[39m]\n",
      "File \u001b[0;32m/projects/IceDynamics/Stage_M2/.venv/lib/python3.11/site-packages/matplotlib/contour.py:1523\u001b[0m, in \u001b[0;36mQuadContourSet._process_args\u001b[0;34m(self, corner_mask, algorithm, *args, **kwargs)\u001b[0m\n\u001b[1;32m   1520\u001b[0m         corner_mask \u001b[38;5;241m=\u001b[39m mpl\u001b[38;5;241m.\u001b[39mrcParams[\u001b[38;5;124m'\u001b[39m\u001b[38;5;124mcontour.corner_mask\u001b[39m\u001b[38;5;124m'\u001b[39m]\n\u001b[1;32m   1521\u001b[0m \u001b[38;5;28mself\u001b[39m\u001b[38;5;241m.\u001b[39m_corner_mask \u001b[38;5;241m=\u001b[39m corner_mask\n\u001b[0;32m-> 1523\u001b[0m x, y, z \u001b[38;5;241m=\u001b[39m \u001b[38;5;28;43mself\u001b[39;49m\u001b[38;5;241;43m.\u001b[39;49m\u001b[43m_contour_args\u001b[49m\u001b[43m(\u001b[49m\u001b[43margs\u001b[49m\u001b[43m,\u001b[49m\u001b[43m \u001b[49m\u001b[43mkwargs\u001b[49m\u001b[43m)\u001b[49m\n\u001b[1;32m   1525\u001b[0m contour_generator \u001b[38;5;241m=\u001b[39m contourpy\u001b[38;5;241m.\u001b[39mcontour_generator(\n\u001b[1;32m   1526\u001b[0m     x, y, z, name\u001b[38;5;241m=\u001b[39m\u001b[38;5;28mself\u001b[39m\u001b[38;5;241m.\u001b[39m_algorithm, corner_mask\u001b[38;5;241m=\u001b[39m\u001b[38;5;28mself\u001b[39m\u001b[38;5;241m.\u001b[39m_corner_mask,\n\u001b[1;32m   1527\u001b[0m     line_type\u001b[38;5;241m=\u001b[39mcontourpy\u001b[38;5;241m.\u001b[39mLineType\u001b[38;5;241m.\u001b[39mSeparateCode,\n\u001b[1;32m   1528\u001b[0m     fill_type\u001b[38;5;241m=\u001b[39mcontourpy\u001b[38;5;241m.\u001b[39mFillType\u001b[38;5;241m.\u001b[39mOuterCode,\n\u001b[1;32m   1529\u001b[0m     chunk_size\u001b[38;5;241m=\u001b[39m\u001b[38;5;28mself\u001b[39m\u001b[38;5;241m.\u001b[39mnchunk)\n\u001b[1;32m   1531\u001b[0m t \u001b[38;5;241m=\u001b[39m \u001b[38;5;28mself\u001b[39m\u001b[38;5;241m.\u001b[39mget_transform()\n",
      "File \u001b[0;32m/projects/IceDynamics/Stage_M2/.venv/lib/python3.11/site-packages/matplotlib/contour.py:1574\u001b[0m, in \u001b[0;36mQuadContourSet._contour_args\u001b[0;34m(self, args, kwargs)\u001b[0m\n\u001b[1;32m   1572\u001b[0m     _api\u001b[38;5;241m.\u001b[39mwarn_external(\u001b[38;5;124m'\u001b[39m\u001b[38;5;124mLog scale: values of z <= 0 have been masked\u001b[39m\u001b[38;5;124m'\u001b[39m)\n\u001b[1;32m   1573\u001b[0m     \u001b[38;5;28mself\u001b[39m\u001b[38;5;241m.\u001b[39mzmin \u001b[38;5;241m=\u001b[39m z\u001b[38;5;241m.\u001b[39mmin()\u001b[38;5;241m.\u001b[39mastype(\u001b[38;5;28mfloat\u001b[39m)\n\u001b[0;32m-> 1574\u001b[0m \u001b[38;5;28;43mself\u001b[39;49m\u001b[38;5;241;43m.\u001b[39;49m\u001b[43m_process_contour_level_args\u001b[49m\u001b[43m(\u001b[49m\u001b[43margs\u001b[49m\u001b[43m,\u001b[49m\u001b[43m \u001b[49m\u001b[43mz\u001b[49m\u001b[38;5;241;43m.\u001b[39;49m\u001b[43mdtype\u001b[49m\u001b[43m)\u001b[49m\n\u001b[1;32m   1575\u001b[0m \u001b[38;5;28;01mreturn\u001b[39;00m (x, y, z)\n",
      "File \u001b[0;32m/projects/IceDynamics/Stage_M2/.venv/lib/python3.11/site-packages/matplotlib/contour.py:1238\u001b[0m, in \u001b[0;36mContourSet._process_contour_level_args\u001b[0;34m(self, args, z_dtype)\u001b[0m\n\u001b[1;32m   1236\u001b[0m     \u001b[38;5;28;01mraise\u001b[39;00m \u001b[38;5;167;01mValueError\u001b[39;00m(\u001b[38;5;124m\"\u001b[39m\u001b[38;5;124mFilled contours require at least 2 levels.\u001b[39m\u001b[38;5;124m\"\u001b[39m)\n\u001b[1;32m   1237\u001b[0m \u001b[38;5;28;01mif\u001b[39;00m \u001b[38;5;28mlen\u001b[39m(\u001b[38;5;28mself\u001b[39m\u001b[38;5;241m.\u001b[39mlevels) \u001b[38;5;241m>\u001b[39m \u001b[38;5;241m1\u001b[39m \u001b[38;5;129;01mand\u001b[39;00m np\u001b[38;5;241m.\u001b[39mmin(np\u001b[38;5;241m.\u001b[39mdiff(\u001b[38;5;28mself\u001b[39m\u001b[38;5;241m.\u001b[39mlevels)) \u001b[38;5;241m<\u001b[39m\u001b[38;5;241m=\u001b[39m \u001b[38;5;241m0.0\u001b[39m:\n\u001b[0;32m-> 1238\u001b[0m     \u001b[38;5;28;01mraise\u001b[39;00m \u001b[38;5;167;01mValueError\u001b[39;00m(\u001b[38;5;124m\"\u001b[39m\u001b[38;5;124mContour levels must be increasing\u001b[39m\u001b[38;5;124m\"\u001b[39m)\n",
      "\u001b[0;31mValueError\u001b[0m: Contour levels must be increasing"
     ]
    },
    {
     "data": {
      "image/png": "[encoded data removed]",
      "text/plain": [
       "<Figure size 1500x500 with 1 Axes>"
      ]
     },
     "metadata": {},
     "output_type": "display_data"
    }
   ],
   "source": [
    "from data_analysis import Simulation\n",
    "decoded_simulation = Simulation(current_directory, normalize = True)\n",
    "decoded_simulation.reconstruct_simulation(decoded_data.cpu().numpy(), rgb = True)\n",
    "\n",
    "t = 1369\n",
    "decoded_simulation.plot_field(t)\n",
    "simulation.plot_field(t)"
   ]
  },
  {
   "cell_type": "code",
   "execution_count": 48,
   "metadata": {},
   "outputs": [
    {
     "name": "stdout",
     "output_type": "stream",
     "text": [
      "GIF created at: ..//results/gif/cnn_decoded_field_bs4_v1.gif\n"
     ]
    }
   ],
   "source": [
    "decoded_simulation.save_clip(1300, 1400, f'{current_directory}/results/autoencoder/cnn/snapshots/')\n",
    "\n",
    "from utils import make_gif\n",
    "\n",
    "make_gif(f'{current_directory}/results/autoencoder/cnn/snapshots/', f'{current_directory}/results/gif/cnn_decoded_field_bs{batch_size}_v1.gif', 10)"
   ]
  },
  {
   "cell_type": "code",
   "execution_count": 49,
   "metadata": {},
   "outputs": [],
   "source": [
    "uz_decoded, uzmean_decoded = decoded_simulation.UZ()\n",
    "uz, uzmean = simulation.UZ()"
   ]
  },
  {
   "cell_type": "code",
   "execution_count": 36,
   "metadata": {},
   "outputs": [
    {
     "name": "stdout",
     "output_type": "stream",
     "text": [
      "tensor([0.1000, 0.1006, 0.1013,  ..., 3.9982, 3.9988, 3.9995], device='cuda:0',\n",
      "       dtype=torch.float64)\n"
     ]
    }
   ],
   "source": [
    "print(time)"
   ]
  },
  {
   "cell_type": "code",
   "execution_count": 50,
   "metadata": {},
   "outputs": [
    {
     "data": {
      "image/png": "[encoded data removed]",
      "text/plain": [
       "<Figure size 1600x500 with 1 Axes>"
      ]
     },
     "metadata": {},
     "output_type": "display_data"
    }
   ],
   "source": [
    "fig, ax1 = plt.subplots(figsize = (16, 5))\n",
    "\n",
    "\n",
    "ax1.scatter(time.cpu(), uz, s = 10, c = 'orange', label = r'ground truth $u_z$')\n",
    "ax1.scatter(time.cpu(), uz_decoded + uzmean, s = 2, c = 'cadetblue', label = r'reconstructed $u_z$')\n",
    "\n",
    "ax1.set_ylabel(r'$u_z$', fontsize= fontsize)\n",
    "ax1.set_xlabel(r'$t$', fontsize = fontsize)\n",
    "ax1.legend(fontsize = fontsize, loc = 'upper left')\n",
    "\n",
    "fig.tight_layout()"
   ]
  },
  {
   "cell_type": "code",
   "execution_count": null,
   "metadata": {},
   "outputs": [],
   "source": []
  },
  {
   "cell_type": "code",
   "execution_count": null,
   "metadata": {},
   "outputs": [],
   "source": []
  },
  {
   "cell_type": "code",
   "execution_count": null,
   "metadata": {},
   "outputs": [],
   "source": []
  }
 ],
 "metadata": {
  "kernelspec": {
   "display_name": ".venv",
   "language": "python",
   "name": "python3"
  },
  "language_info": {
   "codemirror_mode": {
    "name": "ipython",
    "version": 3
   },
   "file_extension": ".py",
   "mimetype": "text/x-python",
   "name": "python",
   "nbconvert_exporter": "python",
   "pygments_lexer": "ipython3",
   "version": "3.11.2"
  }
 },
 "nbformat": 4,
 "nbformat_minor": 2
}
