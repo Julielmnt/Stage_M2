{
 "cells": [
  {
   "cell_type": "code",
   "execution_count": 1,
   "metadata": {},
   "outputs": [
    {
     "data": {
      "text/plain": [
       "<module 'DMD' from '/home/julielimonet/Documents/Stage_M2/code/DMD.py'>"
      ]
     },
     "execution_count": 1,
     "metadata": {},
     "output_type": "execute_result"
    }
   ],
   "source": [
    "import numpy as np\n",
    "from scipy.linalg import svd, qr, eig, eigh, pinv\n",
    "from scipy.linalg import inv as inv\n",
    "from scipy.sparse.linalg import svds\n",
    "from POD import import_data\n",
    "import os\n",
    "\n",
    "import DMD\n",
    "import importlib\n",
    "importlib.reload(DMD)\n"
   ]
  },
  {
   "cell_type": "code",
   "execution_count": 2,
   "metadata": {},
   "outputs": [],
   "source": [
    "current_directory = os.getcwd()\n",
    "time, x, z, u, w, T, umean = import_data(f'/home/julielimonet/Documents/Stage_M2/')\n",
    "wmean = np.mean(w, axis=0)\n",
    "w = w - wmean\n"
   ]
  },
  {
   "cell_type": "code",
   "execution_count": 3,
   "metadata": {},
   "outputs": [
    {
     "name": "stdout",
     "output_type": "stream",
     "text": [
      "6249\n"
     ]
    }
   ],
   "source": [
    "np.shape(u)\n",
    "h, l = np.shape(x)\n",
    "m = len(time)\n",
    "# reshape\n",
    "U = np.reshape(w, (m, h * l))\n",
    "\n",
    "\n",
    "print(m)"
   ]
  },
  {
   "cell_type": "markdown",
   "metadata": {},
   "source": [
    "# Jean-Christophe Loiseau' version"
   ]
  },
  {
   "cell_type": "code",
   "execution_count": 96,
   "metadata": {},
   "outputs": [
    {
     "name": "stdout",
     "output_type": "stream",
     "text": [
      "(6249, 81, 51) (6249, 4131) 132\n",
      "(4131, 10) (10,)\n",
      "(4131, 10) (10,)\n"
     ]
    }
   ],
   "source": [
    "from DMD import dmd_analysis, evd_dmd\n",
    "\n",
    "\n",
    "uf = np.zeros((u.shape[0],u.shape[1]*u.shape[2]))\n",
    "for i in range(u.shape[0]):\n",
    "  uf[i] = w[i].flatten()\n",
    "print(u.shape,uf.shape,u.shape[1]+u.shape[2])\n",
    "\n",
    "# --> apply DMD algorithm\n",
    "rank = 10\n",
    "sigma, P, Q = dmd_analysis(np.swapaxes(uf,0,1), y=None, rank=rank, rtol=1e-6)\n",
    "print(P.shape,sigma.shape)\n",
    "Phi, Psi, mu = evd_dmd(P, Q)\n",
    "print(Phi.shape,mu.shape)"
   ]
  },
  {
   "cell_type": "code",
   "execution_count": 97,
   "metadata": {},
   "outputs": [
    {
     "name": "stdout",
     "output_type": "stream",
     "text": [
      "10\n"
     ]
    }
   ],
   "source": [
    "print(rank)"
   ]
  },
  {
   "cell_type": "code",
   "execution_count": 98,
   "metadata": {},
   "outputs": [
    {
     "name": "stdout",
     "output_type": "stream",
     "text": [
      "(81, 51)\n",
      "(81, 51)\n",
      "(81, 51)\n",
      "(81, 51)\n",
      "(81, 51)\n",
      "(81, 51)\n",
      "(81, 51)\n",
      "(81, 51)\n",
      "(81, 51)\n",
      "(81, 51)\n"
     ]
    }
   ],
   "source": [
    "# --> reconstruct dominant dynamical modes\n",
    "eigenvalues = np.zeros((rank,))\n",
    "modes = []\n",
    "[modes.append([]) for i in range(rank)]\n",
    "for i in range(rank):\n",
    "  modes[i] = np.real(Phi[:,i])\n",
    "  modes[i] = modes[i].reshape((u.shape[1],u.shape[2])) \n",
    "  print(modes[i].shape)"
   ]
  },
  {
   "cell_type": "code",
   "execution_count": 101,
   "metadata": {},
   "outputs": [
    {
     "name": "stdout",
     "output_type": "stream",
     "text": [
      "[ 3.41624430e-14+0.00000000e+00j  3.67572402e-15+2.32952045e-14j\n",
      "  3.67572402e-15-2.32952045e-14j -1.96600333e-15+0.00000000e+00j\n",
      " -3.94281020e-14+6.65922090e-15j -3.94281020e-14-6.65922090e-15j\n",
      "  1.93293153e-14+0.00000000e+00j -2.04197255e-14+0.00000000e+00j\n",
      "  7.07882258e-14-6.49499030e-15j  7.07882258e-14+6.49499030e-15j]\n"
     ]
    }
   ],
   "source": [
    "print(Phi[0])"
   ]
  },
  {
   "cell_type": "code",
   "execution_count": 19,
   "metadata": {},
   "outputs": [],
   "source": [
    "fig, ax = plt.subplots(figsize=(10,1.5*rank),nrows=rank+1)\n",
    "cf0 = ax[0].contourf(x, z, umean, levels=20, cmap=cm.nipy_spectral)\n",
    "plt.colorbar(cf0)\n",
    "for j in range(rank):\n",
    "  cf0 = ax[j+1].contourf(x, z, modes[j], levels=20, cmap=cm.nipy_spectral)\n",
    "  plt.colorbar(cf0)\n",
    "[ax[j].set_aspect('equal', 'box') for j in range(rank+1)]\n",
    "# [ax[j+1].set_title(f'Mode {j}, KE = {np.round(KE_mode[j]*100, 3)}%') for j in range(num_modes)]\n",
    "plt.tight_layout()\n",
    "plt.show()"
   ]
  },
  {
   "cell_type": "markdown",
   "metadata": {},
   "source": [
    "# Naive version"
   ]
  },
  {
   "cell_type": "code",
   "execution_count": 56,
   "metadata": {},
   "outputs": [
    {
     "name": "stdout",
     "output_type": "stream",
     "text": [
      "6249\n",
      "81\n",
      "51\n",
      "(6249, 81, 51)\n",
      "(6249, 4131)\n"
     ]
    }
   ],
   "source": [
    "print(m)\n",
    "print(h)\n",
    "print(l)\n",
    "print(np.shape(u))\n",
    "print(np.shape(U))"
   ]
  },
  {
   "cell_type": "code",
   "execution_count": 4,
   "metadata": {},
   "outputs": [
    {
     "name": "stdout",
     "output_type": "stream",
     "text": [
      "(6249, 4131) (4131, 6249)\n"
     ]
    }
   ],
   "source": [
    "print(np.shape(U), np.shape(np.swapaxes(U,0,1)))\n",
    "V1 = np.swapaxes(U,0,1)\n",
    "V1, V2 = V1[:, :-1], V1[:, 1:]\n",
    "\n",
    "# First svd\n",
    "U, Sigma, W = svd(V1, full_matrices=False)\n",
    "# U, Sigma, W = svds(V1, k = 10)\n",
    "W = W.T.conj()"
   ]
  },
  {
   "cell_type": "code",
   "execution_count": 5,
   "metadata": {},
   "outputs": [
    {
     "name": "stdout",
     "output_type": "stream",
     "text": [
      "(4131, 6248)\n",
      "(4131, 4131) (4131,) (6248, 4131)\n"
     ]
    }
   ],
   "source": [
    "print(np.shape(V1))\n",
    "print(np.shape(U), np.shape(Sigma), np.shape(W))"
   ]
  },
  {
   "cell_type": "code",
   "execution_count": 5,
   "metadata": {},
   "outputs": [],
   "source": [
    "Sigma_inv = pinv(np.diag(Sigma))"
   ]
  },
  {
   "cell_type": "code",
   "execution_count": null,
   "metadata": {},
   "outputs": [
    {
     "name": "stdout",
     "output_type": "stream",
     "text": [
      "(4131, 4131) (4131, 6248) (6248, 4131) (4131, 4131)\n"
     ]
    }
   ],
   "source": [
    "print(np.shape(U.T), np.shape(V2), np.shape(W), np.shape(Sigma_inv))"
   ]
  },
  {
   "cell_type": "code",
   "execution_count": 6,
   "metadata": {},
   "outputs": [],
   "source": [
    "S = U.T.conj() @ V2 @ W @ Sigma_inv"
   ]
  },
  {
   "cell_type": "code",
   "execution_count": 9,
   "metadata": {},
   "outputs": [
    {
     "name": "stdout",
     "output_type": "stream",
     "text": [
      "(4131, 4131)\n"
     ]
    }
   ],
   "source": [
    "print(np.shape(S))"
   ]
  },
  {
   "cell_type": "code",
   "execution_count": 7,
   "metadata": {},
   "outputs": [],
   "source": [
    "eigenvalues, eigenvectors = eig(S)"
   ]
  },
  {
   "cell_type": "code",
   "execution_count": 18,
   "metadata": {},
   "outputs": [
    {
     "name": "stdout",
     "output_type": "stream",
     "text": [
      "(4131, 4131) (4131, 4131)\n"
     ]
    }
   ],
   "source": [
    "print(np.shape(eigenvectors), np.shape(U))"
   ]
  },
  {
   "cell_type": "code",
   "execution_count": null,
   "metadata": {},
   "outputs": [],
   "source": [
    "Phi = np.zeros(np.shape(eigenvectors))\n",
    "for i in range(np.shape(eigenvectors)[1]):\n",
    "    Phi[i] = U @ eigenvectors[:,i]"
   ]
  },
  {
   "cell_type": "code",
   "execution_count": 20,
   "metadata": {},
   "outputs": [
    {
     "name": "stdout",
     "output_type": "stream",
     "text": [
      "(4131, 4131)\n"
     ]
    }
   ],
   "source": [
    "print( np.shape(Phi))"
   ]
  },
  {
   "cell_type": "code",
   "execution_count": 8,
   "metadata": {},
   "outputs": [
    {
     "name": "stdout",
     "output_type": "stream",
     "text": [
      "(81, 51)\n",
      "(81, 51)\n",
      "(81, 51)\n",
      "(81, 51)\n",
      "(81, 51)\n",
      "(81, 51)\n",
      "(81, 51)\n",
      "(81, 51)\n",
      "(81, 51)\n",
      "(81, 51)\n"
     ]
    }
   ],
   "source": [
    "indices_of_max_values = eigenvalues.argsort()[-10:][::-1]\n",
    "rank = 10\n",
    "\n",
    "# TKE = np.sum(np.real(eigenvalues))\n",
    "# KE_mode = []\n",
    "modes = []\n",
    "[modes.append([]) for i in range(rank)]\n",
    "for i,j in enumerate(indices_of_max_values):\n",
    "  # KE_mode.append(np.real(eigenvalues)[j]/TKE)\n",
    "  modes[i] = np.real(U @ eigenvectors[:,j])\n",
    "  modes[i] = modes[i].reshape((h,l)) \n",
    "  print(modes[i].shape)"
   ]
  },
  {
   "cell_type": "code",
   "execution_count": 33,
   "metadata": {},
   "outputs": [
    {
     "name": "stdout",
     "output_type": "stream",
     "text": [
      "(6249, 81, 51)\n"
     ]
    }
   ],
   "source": [
    "print(np.shape(wmean))"
   ]
  },
  {
   "cell_type": "code",
   "execution_count": 9,
   "metadata": {},
   "outputs": [],
   "source": [
    "import matplotlib.pyplot as plt\n",
    "from matplotlib import cm\n",
    "\n",
    "fig, ax = plt.subplots(figsize=(10,1.5*rank),nrows=rank+1)\n",
    "cf0 = ax[0].contourf(x, z, wmean, levels=20, cmap=cm.nipy_spectral)\n",
    "plt.colorbar(cf0)\n",
    "for j in range(rank):\n",
    "  cf0 = ax[j+1].contourf(x, z, modes[j], levels=20, cmap=cm.nipy_spectral)\n",
    "  plt.colorbar(cf0)\n",
    "[ax[j].set_aspect('equal', 'box') for j in range(rank+1)]\n",
    "# [ax[j+1].set_title(f'Mode {j}, KE = {np.round(KE_mode[j]*100, 3)}%') for j in range(rank)]\n",
    "plt.tight_layout()\n",
    "plt.show()"
   ]
  }
 ],
 "metadata": {
  "kernelspec": {
   "display_name": ".venv",
   "language": "python",
   "name": "python3"
  },
  "language_info": {
   "codemirror_mode": {
    "name": "ipython",
    "version": 3
   },
   "file_extension": ".py",
   "mimetype": "text/x-python",
   "name": "python",
   "nbconvert_exporter": "python",
   "pygments_lexer": "ipython3",
   "version": "3.10.12"
  }
 },
 "nbformat": 4,
 "nbformat_minor": 2
}
